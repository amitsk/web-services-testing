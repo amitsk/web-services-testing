{
 "cells": [
  {
   "cell_type": "code",
   "execution_count": 30,
   "metadata": {
    "collapsed": false
   },
   "outputs": [
    {
     "data": {
      "text/plain": [
       "defined \u001b[32mclass \u001b[36mTomato\u001b[0m\n",
       "defined \u001b[32mclass \u001b[36mSlicedTomato\u001b[0m\n",
       "defined \u001b[32mclass \u001b[36mTomatoPulp\u001b[0m\n",
       "defined \u001b[32mobject \u001b[36mFoodProcessor\u001b[0m"
      ]
     },
     "metadata": {},
     "output_type": "display_data"
    }
   ],
   "source": [
    "case class Tomato(wtInGrams : Double)\n",
    "case class SlicedTomato(wtInGrams : Double)\n",
    "case class TomatoPulp ( wtInGrams:Double)\n",
    "\n",
    "object FoodProcessor {\n",
    " //def slice( t:Tomato, numSlices:Int):Seq[SlicedTomato] = (1 to numSlices).map(_ => SlicedTomato (t.wtInGrams/numSlices )) \n",
    " def slice(t:Tomato, numSlices:Int):Seq[SlicedTomato] = for(x <- 1 to numSlices) yield(SlicedTomato(t.wtInGrams/numSlices))\n",
    " def pulp( t: SlicedTomato) =  TomatoPulp( t.wtInGrams)   \n",
    "    \n",
    "    \n",
    "}"
   ]
  },
  {
   "cell_type": "code",
   "execution_count": 10,
   "metadata": {
    "collapsed": false
   },
   "outputs": [
    {
     "data": {
      "text/plain": [
       "\u001b[36mmappedSlices\u001b[0m: \u001b[32mList\u001b[0m[\u001b[32mSeq\u001b[0m[\u001b[32mSlicedTomato\u001b[0m]] = \u001b[33mList\u001b[0m(\n",
       "  \u001b[33mVector\u001b[0m(\n",
       "    \u001b[33mSlicedTomato\u001b[0m(\u001b[32m6.666666666666667\u001b[0m),\n",
       "    \u001b[33mSlicedTomato\u001b[0m(\u001b[32m6.666666666666667\u001b[0m),\n",
       "    \u001b[33mSlicedTomato\u001b[0m(\u001b[32m6.666666666666667\u001b[0m)\n",
       "  ),\n",
       "  \u001b[33mVector\u001b[0m(\n",
       "    \u001b[33mSlicedTomato\u001b[0m(\u001b[32m13.333333333333334\u001b[0m),\n",
       "    \u001b[33mSlicedTomato\u001b[0m(\u001b[32m13.333333333333334\u001b[0m),\n",
       "    \u001b[33mSlicedTomato\u001b[0m(\u001b[32m13.333333333333334\u001b[0m)\n",
       "  )\n",
       ")"
      ]
     },
     "metadata": {},
     "output_type": "display_data"
    }
   ],
   "source": [
    "val mappedSlices = List(Tomato(20.0), Tomato(40.0)).map (x=> FoodProcessor.slice (x,3))"
   ]
  },
  {
   "cell_type": "code",
   "execution_count": 9,
   "metadata": {
    "collapsed": false
   },
   "outputs": [
    {
     "data": {
      "text/plain": [
       "\u001b[36mres8\u001b[0m: \u001b[32mList\u001b[0m[\u001b[32mSlicedTomato\u001b[0m] = \u001b[33mList\u001b[0m(\n",
       "  \u001b[33mSlicedTomato\u001b[0m(\u001b[32m6.666666666666667\u001b[0m),\n",
       "  \u001b[33mSlicedTomato\u001b[0m(\u001b[32m6.666666666666667\u001b[0m),\n",
       "  \u001b[33mSlicedTomato\u001b[0m(\u001b[32m6.666666666666667\u001b[0m),\n",
       "  \u001b[33mSlicedTomato\u001b[0m(\u001b[32m13.333333333333334\u001b[0m),\n",
       "  \u001b[33mSlicedTomato\u001b[0m(\u001b[32m13.333333333333334\u001b[0m),\n",
       "  \u001b[33mSlicedTomato\u001b[0m(\u001b[32m13.333333333333334\u001b[0m)\n",
       ")"
      ]
     },
     "metadata": {},
     "output_type": "display_data"
    }
   ],
   "source": [
    "List(Tomato(20.0), Tomato(40.0)).flatMap (x=> FoodProcessor.slice (x,3))"
   ]
  },
  {
   "cell_type": "code",
   "execution_count": 11,
   "metadata": {
    "collapsed": false
   },
   "outputs": [
    {
     "data": {
      "text/plain": [
       "\u001b[36mres10\u001b[0m: \u001b[32mList\u001b[0m[\u001b[32mSlicedTomato\u001b[0m] = \u001b[33mList\u001b[0m(\n",
       "  \u001b[33mSlicedTomato\u001b[0m(\u001b[32m6.666666666666667\u001b[0m),\n",
       "  \u001b[33mSlicedTomato\u001b[0m(\u001b[32m6.666666666666667\u001b[0m),\n",
       "  \u001b[33mSlicedTomato\u001b[0m(\u001b[32m6.666666666666667\u001b[0m),\n",
       "  \u001b[33mSlicedTomato\u001b[0m(\u001b[32m13.333333333333334\u001b[0m),\n",
       "  \u001b[33mSlicedTomato\u001b[0m(\u001b[32m13.333333333333334\u001b[0m),\n",
       "  \u001b[33mSlicedTomato\u001b[0m(\u001b[32m13.333333333333334\u001b[0m)\n",
       ")"
      ]
     },
     "metadata": {},
     "output_type": "display_data"
    }
   ],
   "source": [
    "mappedSlices.flatten"
   ]
  },
  {
   "cell_type": "code",
   "execution_count": 12,
   "metadata": {
    "collapsed": false
   },
   "outputs": [
    {
     "data": {
      "text/plain": [
       "\u001b[36mres11\u001b[0m: \u001b[32mList\u001b[0m[\u001b[32mSeq\u001b[0m[\u001b[32mSlicedTomato\u001b[0m]] = \u001b[33mList\u001b[0m(\n",
       "  \u001b[33mVector\u001b[0m(\n",
       "    \u001b[33mSlicedTomato\u001b[0m(\u001b[32m13.333333333333334\u001b[0m),\n",
       "    \u001b[33mSlicedTomato\u001b[0m(\u001b[32m13.333333333333334\u001b[0m),\n",
       "    \u001b[33mSlicedTomato\u001b[0m(\u001b[32m13.333333333333334\u001b[0m)\n",
       "  )\n",
       ")"
      ]
     },
     "metadata": {},
     "output_type": "display_data"
    }
   ],
   "source": [
    "mappedSlices.drop(1)"
   ]
  },
  {
   "cell_type": "code",
   "execution_count": 18,
   "metadata": {
    "collapsed": false
   },
   "outputs": [
    {
     "data": {
      "text/plain": [
       "\u001b[36mslices\u001b[0m: \u001b[32mList\u001b[0m[\u001b[32mSlicedTomato\u001b[0m] = \u001b[33mList\u001b[0m(\n",
       "  \u001b[33mSlicedTomato\u001b[0m(\u001b[32m6.666666666666667\u001b[0m),\n",
       "  \u001b[33mSlicedTomato\u001b[0m(\u001b[32m6.666666666666667\u001b[0m),\n",
       "  \u001b[33mSlicedTomato\u001b[0m(\u001b[32m6.666666666666667\u001b[0m),\n",
       "  \u001b[33mSlicedTomato\u001b[0m(\u001b[32m13.333333333333334\u001b[0m),\n",
       "  \u001b[33mSlicedTomato\u001b[0m(\u001b[32m13.333333333333334\u001b[0m),\n",
       "  \u001b[33mSlicedTomato\u001b[0m(\u001b[32m13.333333333333334\u001b[0m)\n",
       ")"
      ]
     },
     "metadata": {},
     "output_type": "display_data"
    }
   ],
   "source": [
    "val slices = mappedSlices.flatten"
   ]
  },
  {
   "cell_type": "code",
   "execution_count": 26,
   "metadata": {
    "collapsed": false
   },
   "outputs": [
    {
     "data": {
      "text/plain": [
       "\u001b[36mres25\u001b[0m: \u001b[32mList\u001b[0m[\u001b[32mSlicedTomato\u001b[0m] = \u001b[33mList\u001b[0m(\u001b[33mSlicedTomato\u001b[0m(\u001b[32m6.666666666666667\u001b[0m), \u001b[33mSlicedTomato\u001b[0m(\u001b[32m13.333333333333334\u001b[0m))"
      ]
     },
     "metadata": {},
     "output_type": "display_data"
    }
   ],
   "source": [
    "slices.distinct"
   ]
  },
  {
   "cell_type": "code",
   "execution_count": 19,
   "metadata": {
    "collapsed": false
   },
   "outputs": [
    {
     "data": {
      "text/plain": [
       "\u001b[36mres18\u001b[0m: \u001b[32mList\u001b[0m[\u001b[32mSlicedTomato\u001b[0m] = \u001b[33mList\u001b[0m(\n",
       "  \u001b[33mSlicedTomato\u001b[0m(\u001b[32m6.666666666666667\u001b[0m),\n",
       "  \u001b[33mSlicedTomato\u001b[0m(\u001b[32m6.666666666666667\u001b[0m),\n",
       "  \u001b[33mSlicedTomato\u001b[0m(\u001b[32m13.333333333333334\u001b[0m),\n",
       "  \u001b[33mSlicedTomato\u001b[0m(\u001b[32m13.333333333333334\u001b[0m),\n",
       "  \u001b[33mSlicedTomato\u001b[0m(\u001b[32m13.333333333333334\u001b[0m)\n",
       ")"
      ]
     },
     "metadata": {},
     "output_type": "display_data"
    }
   ],
   "source": [
    "mappedSlices.flatten.drop(1)"
   ]
  },
  {
   "cell_type": "code",
   "execution_count": 21,
   "metadata": {
    "collapsed": false
   },
   "outputs": [
    {
     "data": {
      "text/plain": [
       "\u001b[36mres20\u001b[0m: \u001b[32mList\u001b[0m[\u001b[32mSlicedTomato\u001b[0m] = \u001b[33mList\u001b[0m(\u001b[33mSlicedTomato\u001b[0m(\u001b[32m6.666666666666667\u001b[0m), \u001b[33mSlicedTomato\u001b[0m(\u001b[32m6.666666666666667\u001b[0m))"
      ]
     },
     "metadata": {},
     "output_type": "display_data"
    }
   ],
   "source": [
    "mappedSlices.flatten.take(2)"
   ]
  },
  {
   "cell_type": "code",
   "execution_count": 22,
   "metadata": {
    "collapsed": false
   },
   "outputs": [
    {
     "data": {
      "text/plain": [
       "\u001b[36moldTomatoes\u001b[0m: \u001b[32mList\u001b[0m[\u001b[32mTomato\u001b[0m] = \u001b[33mList\u001b[0m(\u001b[33mTomato\u001b[0m(\u001b[32m1.0\u001b[0m), \u001b[33mTomato\u001b[0m(\u001b[32m2.0\u001b[0m), \u001b[33mTomato\u001b[0m(\u001b[32m3.0\u001b[0m))"
      ]
     },
     "metadata": {},
     "output_type": "display_data"
    }
   ],
   "source": [
    "val oldTomatoes = List(Tomato(1.0),Tomato(2.0),Tomato(3.0))"
   ]
  },
  {
   "cell_type": "markdown",
   "metadata": {},
   "source": [
    "val smallTomatoes = List(Tomato(1.0),Tomato(2.0),Tomato(3.0))"
   ]
  },
  {
   "cell_type": "code",
   "execution_count": 23,
   "metadata": {
    "collapsed": false
   },
   "outputs": [
    {
     "data": {
      "text/plain": [
       "\u001b[36mnewTomatoes\u001b[0m: \u001b[32mList\u001b[0m[\u001b[32mTomato\u001b[0m] = \u001b[33mList\u001b[0m(\u001b[33mTomato\u001b[0m(\u001b[32m10.0\u001b[0m), \u001b[33mTomato\u001b[0m(\u001b[32m20.0\u001b[0m), \u001b[33mTomato\u001b[0m(\u001b[32m3.0\u001b[0m))"
      ]
     },
     "metadata": {},
     "output_type": "display_data"
    }
   ],
   "source": [
    "val newTomatoes = List(Tomato(10.0),Tomato(20.0),Tomato(3.0))"
   ]
  },
  {
   "cell_type": "code",
   "execution_count": 24,
   "metadata": {
    "collapsed": false
   },
   "outputs": [
    {
     "data": {
      "text/plain": [
       "\u001b[36mres23\u001b[0m: \u001b[32mList\u001b[0m[\u001b[32mTomato\u001b[0m] = \u001b[33mList\u001b[0m(\u001b[33mTomato\u001b[0m(\u001b[32m3.0\u001b[0m))"
      ]
     },
     "metadata": {},
     "output_type": "display_data"
    }
   ],
   "source": [
    "oldTomatoes.filter ( _.wtInGrams > 2.0)"
   ]
  },
  {
   "cell_type": "code",
   "execution_count": 25,
   "metadata": {
    "collapsed": false
   },
   "outputs": [
    {
     "data": {
      "text/plain": [
       "\u001b[36mres24\u001b[0m: \u001b[32mList\u001b[0m[\u001b[32mTomato\u001b[0m] = \u001b[33mList\u001b[0m(\u001b[33mTomato\u001b[0m(\u001b[32m1.0\u001b[0m), \u001b[33mTomato\u001b[0m(\u001b[32m2.0\u001b[0m))"
      ]
     },
     "metadata": {},
     "output_type": "display_data"
    }
   ],
   "source": [
    "oldTomatoes.filterNot ( _.wtInGrams > 2.0)"
   ]
  },
  {
   "cell_type": "code",
   "execution_count": 27,
   "metadata": {
    "collapsed": false
   },
   "outputs": [
    {
     "data": {
      "text/plain": [
       "\u001b[36mres26\u001b[0m: \u001b[32mList\u001b[0m[\u001b[32mTomato\u001b[0m] = \u001b[33mList\u001b[0m(\u001b[33mTomato\u001b[0m(\u001b[32m1.0\u001b[0m), \u001b[33mTomato\u001b[0m(\u001b[32m2.0\u001b[0m))"
      ]
     },
     "metadata": {},
     "output_type": "display_data"
    }
   ],
   "source": [
    "oldTomatoes.diff(newTomatoes)"
   ]
  },
  {
   "cell_type": "code",
   "execution_count": 28,
   "metadata": {
    "collapsed": false
   },
   "outputs": [
    {
     "data": {
      "text/plain": [
       "\u001b[36mres27\u001b[0m: \u001b[32mList\u001b[0m[\u001b[32mTomato\u001b[0m] = \u001b[33mList\u001b[0m(\u001b[33mTomato\u001b[0m(\u001b[32m3.0\u001b[0m))"
      ]
     },
     "metadata": {},
     "output_type": "display_data"
    }
   ],
   "source": [
    "oldTomatoes.intersect(newTomatoes)"
   ]
  },
  {
   "cell_type": "code",
   "execution_count": 29,
   "metadata": {
    "collapsed": false
   },
   "outputs": [
    {
     "data": {
      "text/plain": [
       "\u001b[36mres28\u001b[0m: \u001b[32mList\u001b[0m[\u001b[32mTomato\u001b[0m] = \u001b[33mList\u001b[0m(\n",
       "  \u001b[33mTomato\u001b[0m(\u001b[32m1.0\u001b[0m),\n",
       "  \u001b[33mTomato\u001b[0m(\u001b[32m2.0\u001b[0m),\n",
       "  \u001b[33mTomato\u001b[0m(\u001b[32m3.0\u001b[0m),\n",
       "  \u001b[33mTomato\u001b[0m(\u001b[32m10.0\u001b[0m),\n",
       "  \u001b[33mTomato\u001b[0m(\u001b[32m20.0\u001b[0m),\n",
       "  \u001b[33mTomato\u001b[0m(\u001b[32m3.0\u001b[0m)\n",
       ")"
      ]
     },
     "metadata": {},
     "output_type": "display_data"
    }
   ],
   "source": [
    "oldTomatoes.union(newTomatoes)"
   ]
  },
  {
   "cell_type": "code",
   "execution_count": 31,
   "metadata": {
    "collapsed": false
   },
   "outputs": [
    {
     "data": {
      "text/plain": [
       "\u001b[36mres30\u001b[0m: \u001b[32mTomatoPulp\u001b[0m = \u001b[33mTomatoPulp\u001b[0m(\u001b[32m60.00000000000001\u001b[0m)"
      ]
     },
     "metadata": {},
     "output_type": "display_data"
    }
   ],
   "source": [
    "slices.foldLeft(TomatoPulp(0.0))( ( x,y) => TomatoPulp( x.wtInGrams + y.wtInGrams))"
   ]
  },
  {
   "cell_type": "code",
   "execution_count": null,
   "metadata": {
    "collapsed": true
   },
   "outputs": [],
   "source": []
  }
 ],
 "metadata": {
  "kernelspec": {
   "display_name": "Scala 2.11",
   "language": "scala211",
   "name": "scala211"
  },
  "language_info": {
   "codemirror_mode": "text/x-scala",
   "file_extension": ".scala",
   "mimetype": "text/x-scala",
   "name": "scala211",
   "pygments_lexer": "scala",
   "version": "2.11.8"
  }
 },
 "nbformat": 4,
 "nbformat_minor": 0
}
